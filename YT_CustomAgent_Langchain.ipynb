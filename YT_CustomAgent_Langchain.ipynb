{
  "nbformat": 4,
  "nbformat_minor": 0,
  "metadata": {
    "colab": {
      "provenance": []
    },
    "kernelspec": {
      "name": "python3",
      "display_name": "Python 3"
    },
    "language_info": {
      "name": "python"
    }
  },
  "cells": [
    {
      "cell_type": "code",
      "execution_count": 1,
      "metadata": {
        "id": "RRYSu48huSUW",
        "colab": {
          "base_uri": "https://localhost:8080/"
        },
        "outputId": "8b777273-491a-4b08-f8c8-411ada679fac"
      },
      "outputs": [
        {
          "output_type": "stream",
          "name": "stdout",
          "text": [
            "\u001b[2K     \u001b[90m━━━━━━━━━━━━━━━━━━━━━━━━━━━━━━━━━━━━━━━━\u001b[0m \u001b[32m50.4/50.4 kB\u001b[0m \u001b[31m1.6 MB/s\u001b[0m eta \u001b[36m0:00:00\u001b[0m\n",
            "\u001b[2K   \u001b[90m━━━━━━━━━━━━━━━━━━━━━━━━━━━━━━━━━━━━━━━━\u001b[0m \u001b[32m1.0/1.0 MB\u001b[0m \u001b[31m6.9 MB/s\u001b[0m eta \u001b[36m0:00:00\u001b[0m\n",
            "\u001b[2K   \u001b[90m━━━━━━━━━━━━━━━━━━━━━━━━━━━━━━━━━━━━━━━━\u001b[0m \u001b[32m1.1/1.1 MB\u001b[0m \u001b[31m26.7 MB/s\u001b[0m eta \u001b[36m0:00:00\u001b[0m\n",
            "\u001b[2K   \u001b[90m━━━━━━━━━━━━━━━━━━━━━━━━━━━━━━━━━━━━━━━━\u001b[0m \u001b[32m2.3/2.3 MB\u001b[0m \u001b[31m34.0 MB/s\u001b[0m eta \u001b[36m0:00:00\u001b[0m\n",
            "\u001b[2K   \u001b[90m━━━━━━━━━━━━━━━━━━━━━━━━━━━━━━━━━━━━━━━━\u001b[0m \u001b[32m396.2/396.2 kB\u001b[0m \u001b[31m21.6 MB/s\u001b[0m eta \u001b[36m0:00:00\u001b[0m\n",
            "\u001b[2K   \u001b[90m━━━━━━━━━━━━━━━━━━━━━━━━━━━━━━━━━━━━━━━━\u001b[0m \u001b[32m150.7/150.7 kB\u001b[0m \u001b[31m8.3 MB/s\u001b[0m eta \u001b[36m0:00:00\u001b[0m\n",
            "\u001b[2K   \u001b[90m━━━━━━━━━━━━━━━━━━━━━━━━━━━━━━━━━━━━━━━━\u001b[0m \u001b[32m2.8/2.8 MB\u001b[0m \u001b[31m46.6 MB/s\u001b[0m eta \u001b[36m0:00:00\u001b[0m\n",
            "\u001b[2K   \u001b[90m━━━━━━━━━━━━━━━━━━━━━━━━━━━━━━━━━━━━━━━━\u001b[0m \u001b[32m76.4/76.4 kB\u001b[0m \u001b[31m3.7 MB/s\u001b[0m eta \u001b[36m0:00:00\u001b[0m\n",
            "\u001b[2K   \u001b[90m━━━━━━━━━━━━━━━━━━━━━━━━━━━━━━━━━━━━━━━━\u001b[0m \u001b[32m77.9/77.9 kB\u001b[0m \u001b[31m3.9 MB/s\u001b[0m eta \u001b[36m0:00:00\u001b[0m\n",
            "\u001b[2K   \u001b[90m━━━━━━━━━━━━━━━━━━━━━━━━━━━━━━━━━━━━━━━━\u001b[0m \u001b[32m49.3/49.3 kB\u001b[0m \u001b[31m2.3 MB/s\u001b[0m eta \u001b[36m0:00:00\u001b[0m\n",
            "\u001b[2K   \u001b[90m━━━━━━━━━━━━━━━━━━━━━━━━━━━━━━━━━━━━━━━━\u001b[0m \u001b[32m141.9/141.9 kB\u001b[0m \u001b[31m8.0 MB/s\u001b[0m eta \u001b[36m0:00:00\u001b[0m\n",
            "\u001b[2K   \u001b[90m━━━━━━━━━━━━━━━━━━━━━━━━━━━━━━━━━━━━━━━━\u001b[0m \u001b[32m58.3/58.3 kB\u001b[0m \u001b[31m2.8 MB/s\u001b[0m eta \u001b[36m0:00:00\u001b[0m\n",
            "\u001b[?25h"
          ]
        }
      ],
      "source": [
        "!pip -q install langchain tiktoken duckduckgo-search langchain-community"
      ]
    },
    {
      "cell_type": "code",
      "source": [
        "import os\n",
        "\n",
        "os.environ[\"OPENAI_API_KEY\"] = \"\""
      ],
      "metadata": {
        "id": "dNA4TsHpu6OM"
      },
      "execution_count": 2,
      "outputs": []
    },
    {
      "cell_type": "code",
      "source": [
        "!pip show langchain"
      ],
      "metadata": {
        "id": "J-KFB7J_u_3L",
        "colab": {
          "base_uri": "https://localhost:8080/"
        },
        "outputId": "e8192595-fcbb-425d-986b-c7ce22b7c4f0"
      },
      "execution_count": 3,
      "outputs": [
        {
          "output_type": "stream",
          "name": "stdout",
          "text": [
            "Name: langchain\n",
            "Version: 0.2.15\n",
            "Summary: Building applications with LLMs through composability\n",
            "Home-page: https://github.com/langchain-ai/langchain\n",
            "Author: \n",
            "Author-email: \n",
            "License: MIT\n",
            "Location: /usr/local/lib/python3.10/dist-packages\n",
            "Requires: aiohttp, async-timeout, langchain-core, langchain-text-splitters, langsmith, numpy, pydantic, PyYAML, requests, SQLAlchemy, tenacity\n",
            "Required-by: langchain-community\n"
          ]
        }
      ]
    },
    {
      "cell_type": "markdown",
      "source": [
        "## Custom Agents with Custom Search\n",
        "\n",
        "\n"
      ],
      "metadata": {
        "id": "HqwsGJDhvAQ5"
      }
    },
    {
      "cell_type": "code",
      "source": [
        "from langchain.agents import Tool, AgentExecutor, LLMSingleActionAgent, AgentOutputParser\n",
        "from langchain.prompts import StringPromptTemplate\n",
        "\n",
        "from langchain import OpenAI, LLMChain\n",
        "from langchain.tools import DuckDuckGoSearchRun\n",
        "\n",
        "from typing import List, Union\n",
        "from langchain.schema import AgentAction, AgentFinish\n",
        "import re\n",
        "import langchain"
      ],
      "metadata": {
        "id": "nBKP5V4Aifx6"
      },
      "execution_count": 4,
      "outputs": []
    },
    {
      "cell_type": "markdown",
      "source": [
        "## Setup Tools"
      ],
      "metadata": {
        "id": "5TTimfydoIM7"
      }
    },
    {
      "cell_type": "code",
      "source": [
        "# Define which tools the agent can use to answer user queries\n",
        "search = DuckDuckGoSearchRun()\n",
        "\n",
        "tools = [\n",
        "    Tool(\n",
        "        name = \"Search\",\n",
        "        func=search.run,\n",
        "        description=\"useful for when you need to answer questions about current events\"\n",
        "    )\n",
        "]"
      ],
      "metadata": {
        "id": "TfGnKlPun_S_"
      },
      "execution_count": 5,
      "outputs": []
    },
    {
      "cell_type": "code",
      "source": [
        "obj = search.run(\"How can I treat a sprained ankle?\")\n",
        "type(obj)"
      ],
      "metadata": {
        "colab": {
          "base_uri": "https://localhost:8080/"
        },
        "id": "kBSNwtsktM7u",
        "outputId": "30ed8ffa-588b-444e-d495-010fdbbbd03b"
      },
      "execution_count": 6,
      "outputs": [
        {
          "output_type": "execute_result",
          "data": {
            "text/plain": [
              "str"
            ]
          },
          "metadata": {},
          "execution_count": 6
        }
      ]
    },
    {
      "cell_type": "code",
      "source": [
        "obj"
      ],
      "metadata": {
        "colab": {
          "base_uri": "https://localhost:8080/",
          "height": 105
        },
        "id": "Mftlhq6-td0n",
        "outputId": "73fde0ed-fcf1-4a58-e111-f3e640a2cbd1"
      },
      "execution_count": 7,
      "outputs": [
        {
          "output_type": "execute_result",
          "data": {
            "text/plain": [
              "'Sprained ankle vs. broken ankle. While a sprained ankle involves torn or stretched ligaments, a broken ankle means that at least one of the bones in your ankle is broken. Symptoms of a sprain and ... Without proper treatment and rehabilitation, a severely injured ankle may not heal well and could lose its range of motion and stability, resulting in recurrent sprains and more downtime in the future. Anatomy of an ankle sprain. The most common type of ankle sprain is an inversion injury, or lateral ankle sprain. Sprains can range from minor to severe. Your doctor likely will put your sprain at one of three \"grades\" based on the amount of damage: Grade 1: Your ankle will probably feel sore and may be ... Even if your ankle sprain seems minor, you should still take it seriously. Proper care after a sprained ankle can help speed up healing and reduce the risk of re-injuring yourself. To get back on your feet the safe way, try following the acronym R.I.C.E. to treat your sprained ankle: rest, ice, compress, and elevate. Initial home treatment for a sprained ankle includes the RICE method (Rest, Ice, Compression, Elevation), over-the-counter pain relievers, gentle exercises, and using a brace or wrap. Applying a warm compress, gentle massage, and possibly physical therapy can aid recovery if the sprain is severe. Preventative measures include strengthening ...'"
            ],
            "application/vnd.google.colaboratory.intrinsic+json": {
              "type": "string"
            }
          },
          "metadata": {},
          "execution_count": 7
        }
      ]
    },
    {
      "cell_type": "code",
      "source": [
        "search.run(\"site:webmd.com How can I treat a sprained ankle?\")"
      ],
      "metadata": {
        "colab": {
          "base_uri": "https://localhost:8080/",
          "height": 105
        },
        "id": "WlCcoLLMtp3P",
        "outputId": "ab41840f-c06c-44eb-ff0c-d5ad49fa0ef8"
      },
      "execution_count": 8,
      "outputs": [
        {
          "output_type": "execute_result",
          "data": {
            "text/plain": [
              "'Sprained ankle vs. broken ankle. While a sprained ankle involves torn or stretched ligaments, a broken ankle means that at least one of the bones in your ankle is broken. Symptoms of a sprain and ... Sprains can range from minor to severe. Your doctor likely will put your sprain at one of three \"grades\" based on the amount of damage: Grade 1: Your ankle will probably feel sore and may be ... The RICE method is a simple self-care technique that aims to reduce swelling, ease pain, and speed up healing. Rest, ice, compression, and elevation of a sprain or strain are part of the RICE ... The most common type of sprain is a sprained ankle. About 25,000 people sprain an ankle every day. ... Most people with mild sprains and strains can treat these injuries at home by following ... They can get inflamed from arthritis, overuse, high-heeled shoes, recent footwear changes, or starting workouts again after time off. Your ankle may feel stiff, tender, warm, and swollen. The best ...'"
            ],
            "application/vnd.google.colaboratory.intrinsic+json": {
              "type": "string"
            }
          },
          "metadata": {},
          "execution_count": 8
        }
      ]
    },
    {
      "cell_type": "code",
      "source": [
        "def duck_wrapper(input_text):\n",
        "    search_results = search.run(f\"site:webmd.com {input_text}\")\n",
        "    return search_results\n",
        "\n",
        "tools = [\n",
        "    Tool(\n",
        "        name = \"Search WebMD\",\n",
        "        func=duck_wrapper,\n",
        "        description=\"useful for when you need to answer medical and pharmalogical questions\"\n",
        "    )\n",
        "]"
      ],
      "metadata": {
        "id": "gqR4C-XSy46b"
      },
      "execution_count": 9,
      "outputs": []
    },
    {
      "cell_type": "markdown",
      "source": [
        "## Prompt Template\n",
        "This instructs the agent on what to do. Generally, the template should incorporate:\n",
        "\n",
        "**`tools:`** which tools the agent has access and how and when to call them.\n",
        "\n",
        "**`intermediate_steps:`** These are tuples of previous (**`AgentAction`**, **`Observation`**) pairs. These are generally not passed directly to the model, but the prompt template formats them in a specific way.\n",
        "\n",
        "**`input:`** generic user input"
      ],
      "metadata": {
        "id": "BiTC5VdwoKpv"
      }
    },
    {
      "cell_type": "code",
      "source": [
        "# Set up the base template\n",
        "template = \"\"\"Answer the following questions as best you can, but speaking as compasionate medical professional. You have access to the following tools:\n",
        "\n",
        "{tools}\n",
        "\n",
        "Use the following format:\n",
        "\n",
        "Question: the input question you must answer\n",
        "Thought: you should always think about what to do\n",
        "Action: the action to take, should be one of [{tool_names}]\n",
        "Action Input: the input to the action\n",
        "Observation: the result of the action\n",
        "... (this Thought/Action/Action Input/Observation can repeat N times)\n",
        "Thought: I now know the final answer\n",
        "Final Answer: the final answer to the original input question\n",
        "\n",
        "Begin! Remember to answer as a compansionate medical professional when giving your final answer.\n",
        "\n",
        "Question: {input}\n",
        "{agent_scratchpad}\"\"\""
      ],
      "metadata": {
        "id": "5wJQ6rFxoTFS"
      },
      "execution_count": 10,
      "outputs": []
    },
    {
      "cell_type": "code",
      "source": [
        "# Set up a prompt template\n",
        "class CustomPromptTemplate(StringPromptTemplate):\n",
        "    # The template to use\n",
        "    template: str\n",
        "    # The list of tools available\n",
        "    tools: List[Tool]\n",
        "\n",
        "    def format(self, **kwargs) -> str:\n",
        "        # Get the intermediate steps (AgentAction, Observation tuples)\n",
        "        # Format them in a particular way\n",
        "        intermediate_steps = kwargs.pop(\"intermediate_steps\")\n",
        "        thoughts = \"\"\n",
        "        for action, observation in intermediate_steps:\n",
        "            thoughts += action.log\n",
        "            thoughts += f\"\\nObservation: {observation}\\nThought: \"\n",
        "        # Set the agent_scratchpad variable to that value\n",
        "        kwargs[\"agent_scratchpad\"] = thoughts\n",
        "        # Create a tools variable from the list of tools provided\n",
        "        kwargs[\"tools\"] = \"\\n\".join([f\"{tool.name}: {tool.description}\" for tool in self.tools])\n",
        "        # Create a list of tool names for the tools provided\n",
        "        kwargs[\"tool_names\"] = \", \".join([tool.name for tool in self.tools])\n",
        "        return self.template.format(**kwargs)"
      ],
      "metadata": {
        "id": "DBGFU6eipdw-"
      },
      "execution_count": 11,
      "outputs": []
    },
    {
      "cell_type": "code",
      "source": [
        "prompt = CustomPromptTemplate(\n",
        "    template=template,\n",
        "    tools=tools,\n",
        "    # This omits the `agent_scratchpad`, `tools`, and `tool_names` variables because those are generated dynamically\n",
        "    # This includes the `intermediate_steps` variable because that is needed\n",
        "    input_variables=[\"input\", \"intermediate_steps\"]\n",
        ")"
      ],
      "metadata": {
        "id": "fwau_HsGpjnv"
      },
      "execution_count": 12,
      "outputs": []
    },
    {
      "cell_type": "markdown",
      "source": [
        "## Custom Output Parser\n",
        "The output parser is responsible for parsing the LLM output into AgentAction and AgentFinish. This usually depends heavily on the prompt used.\n",
        "\n",
        "This is where you can change the parsing to do retries, handle whitespace, etc"
      ],
      "metadata": {
        "id": "x7_Wy0A-ppyN"
      }
    },
    {
      "cell_type": "code",
      "source": [
        "class CustomOutputParser(AgentOutputParser):\n",
        "\n",
        "    def parse(self, llm_output: str) -> Union[AgentAction, AgentFinish]:\n",
        "        # Check if agent should finish\n",
        "        if \"Final Answer:\" in llm_output:\n",
        "            return AgentFinish(\n",
        "                # Return values is generally always a dictionary with a single `output` key\n",
        "                # It is not recommended to try anything else at the moment :)\n",
        "                return_values={\"output\": llm_output.split(\"Final Answer:\")[-1].strip()},\n",
        "                log=llm_output,\n",
        "            )\n",
        "        # Parse out the action and action input\n",
        "        regex = r\"Action\\s*\\d*\\s*:(.*?)\\nAction\\s*\\d*\\s*Input\\s*\\d*\\s*:[\\s]*(.*)\"\n",
        "        match = re.search(regex, llm_output, re.DOTALL)\n",
        "        if not match:\n",
        "            raise ValueError(f\"Could not parse LLM output: `{llm_output}`\")\n",
        "        action = match.group(1).strip()\n",
        "        action_input = match.group(2)\n",
        "        # Return the action and action input\n",
        "        return AgentAction(tool=action, tool_input=action_input.strip(\" \").strip('\"'), log=llm_output)"
      ],
      "metadata": {
        "id": "uy5ZFci1plim"
      },
      "execution_count": 13,
      "outputs": []
    },
    {
      "cell_type": "code",
      "source": [
        "output_parser = CustomOutputParser()"
      ],
      "metadata": {
        "id": "UXXU8Dxtpygn"
      },
      "execution_count": 14,
      "outputs": []
    },
    {
      "cell_type": "markdown",
      "source": [
        "## Set up LLM\n",
        "Choose the LLM you want to use!"
      ],
      "metadata": {
        "id": "gJvyjKIPp4Pr"
      }
    },
    {
      "cell_type": "code",
      "source": [
        "!pip install openai"
      ],
      "metadata": {
        "colab": {
          "base_uri": "https://localhost:8080/"
        },
        "id": "blAqcLT0QD6r",
        "outputId": "38b07b07-9ac9-42a3-ac26-2aff585fb22c"
      },
      "execution_count": 16,
      "outputs": [
        {
          "output_type": "stream",
          "name": "stdout",
          "text": [
            "Collecting openai\n",
            "  Downloading openai-1.43.0-py3-none-any.whl.metadata (22 kB)\n",
            "Requirement already satisfied: anyio<5,>=3.5.0 in /usr/local/lib/python3.10/dist-packages (from openai) (3.7.1)\n",
            "Requirement already satisfied: distro<2,>=1.7.0 in /usr/lib/python3/dist-packages (from openai) (1.7.0)\n",
            "Requirement already satisfied: httpx<1,>=0.23.0 in /usr/local/lib/python3.10/dist-packages (from openai) (0.27.2)\n",
            "Collecting jiter<1,>=0.4.0 (from openai)\n",
            "  Downloading jiter-0.5.0-cp310-cp310-manylinux_2_17_x86_64.manylinux2014_x86_64.whl.metadata (3.6 kB)\n",
            "Requirement already satisfied: pydantic<3,>=1.9.0 in /usr/local/lib/python3.10/dist-packages (from openai) (2.8.2)\n",
            "Requirement already satisfied: sniffio in /usr/local/lib/python3.10/dist-packages (from openai) (1.3.1)\n",
            "Requirement already satisfied: tqdm>4 in /usr/local/lib/python3.10/dist-packages (from openai) (4.66.5)\n",
            "Requirement already satisfied: typing-extensions<5,>=4.11 in /usr/local/lib/python3.10/dist-packages (from openai) (4.12.2)\n",
            "Requirement already satisfied: idna>=2.8 in /usr/local/lib/python3.10/dist-packages (from anyio<5,>=3.5.0->openai) (3.8)\n",
            "Requirement already satisfied: exceptiongroup in /usr/local/lib/python3.10/dist-packages (from anyio<5,>=3.5.0->openai) (1.2.2)\n",
            "Requirement already satisfied: certifi in /usr/local/lib/python3.10/dist-packages (from httpx<1,>=0.23.0->openai) (2024.7.4)\n",
            "Requirement already satisfied: httpcore==1.* in /usr/local/lib/python3.10/dist-packages (from httpx<1,>=0.23.0->openai) (1.0.5)\n",
            "Requirement already satisfied: h11<0.15,>=0.13 in /usr/local/lib/python3.10/dist-packages (from httpcore==1.*->httpx<1,>=0.23.0->openai) (0.14.0)\n",
            "Requirement already satisfied: annotated-types>=0.4.0 in /usr/local/lib/python3.10/dist-packages (from pydantic<3,>=1.9.0->openai) (0.7.0)\n",
            "Requirement already satisfied: pydantic-core==2.20.1 in /usr/local/lib/python3.10/dist-packages (from pydantic<3,>=1.9.0->openai) (2.20.1)\n",
            "Downloading openai-1.43.0-py3-none-any.whl (365 kB)\n",
            "\u001b[2K   \u001b[90m━━━━━━━━━━━━━━━━━━━━━━━━━━━━━━━━━━━━━━━━\u001b[0m \u001b[32m365.7/365.7 kB\u001b[0m \u001b[31m2.6 MB/s\u001b[0m eta \u001b[36m0:00:00\u001b[0m\n",
            "\u001b[?25hDownloading jiter-0.5.0-cp310-cp310-manylinux_2_17_x86_64.manylinux2014_x86_64.whl (318 kB)\n",
            "\u001b[2K   \u001b[90m━━━━━━━━━━━━━━━━━━━━━━━━━━━━━━━━━━━━━━━━\u001b[0m \u001b[32m318.9/318.9 kB\u001b[0m \u001b[31m13.2 MB/s\u001b[0m eta \u001b[36m0:00:00\u001b[0m\n",
            "\u001b[?25hInstalling collected packages: jiter, openai\n",
            "Successfully installed jiter-0.5.0 openai-1.43.0\n"
          ]
        }
      ]
    },
    {
      "cell_type": "code",
      "source": [
        "llm = OpenAI(temperature=0)"
      ],
      "metadata": {
        "id": "ot2zRfIgp3Hp"
      },
      "execution_count": 17,
      "outputs": []
    },
    {
      "cell_type": "markdown",
      "source": [
        "## Define the stop sequence\n",
        "This is important because it tells the LLM when to stop generation.\n",
        "\n",
        "This depends heavily on the prompt and model you are using. Generally, you want this to be whatever token you use in the prompt to denote the start of an Observation (otherwise, the LLM may hallucinate an observation for you)."
      ],
      "metadata": {
        "id": "hduATyfxp_pn"
      }
    },
    {
      "cell_type": "markdown",
      "source": [
        "## Set up the Agent\n",
        "We can now combine everything to set up our agent"
      ],
      "metadata": {
        "id": "TcUy_X4WqFHL"
      }
    },
    {
      "cell_type": "code",
      "source": [
        "# LLM chain consisting of the LLM and a prompt\n",
        "llm_chain = LLMChain(llm=llm, prompt=prompt)"
      ],
      "metadata": {
        "id": "Xrv4LMc_qF38",
        "colab": {
          "base_uri": "https://localhost:8080/"
        },
        "outputId": "ccb86872-7347-49f1-a049-743e3c9c8c16"
      },
      "execution_count": 18,
      "outputs": [
        {
          "output_type": "stream",
          "name": "stderr",
          "text": [
            "<ipython-input-18-9debea4b1b93>:2: LangChainDeprecationWarning: The class `LLMChain` was deprecated in LangChain 0.1.17 and will be removed in 1.0. Use RunnableSequence, e.g., `prompt | llm` instead.\n",
            "  llm_chain = LLMChain(llm=llm, prompt=prompt)\n"
          ]
        }
      ]
    },
    {
      "cell_type": "code",
      "source": [
        "tool_names = [tool.name for tool in tools]\n",
        "\n",
        "agent = LLMSingleActionAgent(\n",
        "    llm_chain=llm_chain,\n",
        "    output_parser=output_parser,\n",
        "    stop=[\"\\nObservation:\"],\n",
        "    allowed_tools=tool_names\n",
        ")"
      ],
      "metadata": {
        "id": "EfhRkuBXqKl5",
        "colab": {
          "base_uri": "https://localhost:8080/"
        },
        "outputId": "138e2b47-63f0-4b9e-a44d-bb2279b2c1ca"
      },
      "execution_count": 19,
      "outputs": [
        {
          "output_type": "stream",
          "name": "stderr",
          "text": [
            "<ipython-input-19-fe19d9643d18>:3: LangChainDeprecationWarning: Use new agent constructor methods like create_react_agent, create_json_agent, create_structured_chat_agent, etc.\n",
            "  agent = LLMSingleActionAgent(\n"
          ]
        }
      ]
    },
    {
      "cell_type": "markdown",
      "source": [
        "\n",
        "### What is an Agent Executor?\n",
        "\n",
        "Agent Executors take an agent and tools and use the agent to decide which tools to call and in what order.\n",
        "\n"
      ],
      "metadata": {
        "id": "PlT9FGpwqPX6"
      }
    },
    {
      "cell_type": "code",
      "source": [
        "agent_executor = AgentExecutor.from_agent_and_tools(agent=agent,\n",
        "                                                    tools=tools,\n",
        "                                                    verbose=True)"
      ],
      "metadata": {
        "id": "2zkQ-jLwqMX9"
      },
      "execution_count": 20,
      "outputs": []
    },
    {
      "cell_type": "code",
      "source": [
        "agent_executor.run(\"How can I treat a spained ankle?\")"
      ],
      "metadata": {
        "colab": {
          "base_uri": "https://localhost:8080/",
          "height": 402
        },
        "id": "5pajWUheqY-e",
        "outputId": "64ad6c24-76b1-4d2b-d5d2-8a138a7367d4"
      },
      "execution_count": 21,
      "outputs": [
        {
          "output_type": "stream",
          "name": "stderr",
          "text": [
            "<ipython-input-21-ab097e3e4982>:1: LangChainDeprecationWarning: The method `Chain.run` was deprecated in langchain 0.1.0 and will be removed in 1.0. Use invoke instead.\n",
            "  agent_executor.run(\"How can I treat a spained ankle?\")\n"
          ]
        },
        {
          "output_type": "stream",
          "name": "stdout",
          "text": [
            "\n",
            "\n",
            "\u001b[1m> Entering new AgentExecutor chain...\u001b[0m\n",
            "\u001b[32;1m\u001b[1;3mThought: First, it's important to assess the severity of the sprain and determine if it requires medical attention.\n",
            "Action: Search WebMD\n",
            "Action Input: \"treat sprained ankle\"\u001b[0m\n",
            "\n",
            "Observation:\u001b[36;1m\u001b[1;3mSprained ankle vs. broken ankle. While a sprained ankle involves torn or stretched ligaments, a broken ankle means that at least one of the bones in your ankle is broken. Symptoms of a sprain and ... An ankle sprain is a common injury caused by turning or twisting your ankle. Your symptoms depend on how much your ankle ligament is strained or torn. Some people think strains and sprains are the same. Learn how to tell the difference, how to avoid them, and what to do if you get a sprain or strain. RICE is a simple, at-home treatment for sprains and strains. Learn how rest, ice, elevation, and compression can help you reduce pain and recover more quickly. Here's what to know about Achilles tendon injuries, including their causes, symptoms, diagnosis, treatment, and prevention.\u001b[0m\n",
            "\u001b[32;1m\u001b[1;3m Based on the information from WebMD, it seems like a sprained ankle can be treated at home with the RICE method.\n",
            "Action: Search WebMD\n",
            "Action Input: \"RICE method for sprained ankle\"\u001b[0m\n",
            "\n",
            "Observation:\u001b[36;1m\u001b[1;3mThe RICE method is a simple self-care technique that aims to reduce swelling, ease pain, and speed up healing. Rest, ice, compression, and elevation of a sprain or strain are part of the RICE ... Sprained ankle vs. broken ankle. While a sprained ankle involves torn or stretched ligaments, a broken ankle means that at least one of the bones in your ankle is broken. Symptoms of a sprain and ... The most common type of sprain is a sprained ankle. About 25,000 people sprain an ankle every day. ... RICE therapy is particularly important during the first 24 to 72 hours after a sprain or ... Sprains can range from minor to severe. Your doctor likely will put your sprain at one of three \"grades\" based on the amount of damage: Grade 1: Your ankle will probably feel sore and may be ... It commonly happens in car accidents. You should get medical help right away for a dislocated joint. Put ice on the site to keep the swelling down, but don't try to put the joint back into place ...\u001b[0m\n",
            "\u001b[32;1m\u001b[1;3m The RICE method seems like a good first step for treating a sprained ankle, but if the pain and swelling persist or if there is difficulty walking, it's important to seek medical attention.\n",
            "Final Answer: As a compassionate medical professional, I recommend using the RICE method for treating a sprained ankle, but if symptoms persist or worsen, it's important to seek medical attention for proper diagnosis and treatment.\u001b[0m\n",
            "\n",
            "\u001b[1m> Finished chain.\u001b[0m\n"
          ]
        },
        {
          "output_type": "execute_result",
          "data": {
            "text/plain": [
              "\"As a compassionate medical professional, I recommend using the RICE method for treating a sprained ankle, but if symptoms persist or worsen, it's important to seek medical attention for proper diagnosis and treatment.\""
            ],
            "application/vnd.google.colaboratory.intrinsic+json": {
              "type": "string"
            }
          },
          "metadata": {},
          "execution_count": 21
        }
      ]
    },
    {
      "cell_type": "markdown",
      "source": [
        "### in Debug mode"
      ],
      "metadata": {
        "id": "NXnlu-fj5XLa"
      }
    },
    {
      "cell_type": "code",
      "source": [
        "langchain.debug = True"
      ],
      "metadata": {
        "id": "Zi2la8Td5bEf"
      },
      "execution_count": 22,
      "outputs": []
    },
    {
      "cell_type": "code",
      "source": [
        "agent_executor.run(\"How can I treat a spained ankle?\")"
      ],
      "metadata": {
        "colab": {
          "base_uri": "https://localhost:8080/",
          "height": 1000
        },
        "id": "aMwrWML65Z5Z",
        "outputId": "84b03160-0e32-41a4-f298-94cb86720388"
      },
      "execution_count": 23,
      "outputs": [
        {
          "output_type": "stream",
          "name": "stdout",
          "text": [
            "\u001b[32;1m\u001b[1;3m[chain/start]\u001b[0m \u001b[1m[chain:AgentExecutor] Entering Chain run with input:\n",
            "\u001b[0m{\n",
            "  \"input\": \"How can I treat a spained ankle?\"\n",
            "}\n",
            "\u001b[32;1m\u001b[1;3m[chain/start]\u001b[0m \u001b[1m[chain:AgentExecutor > chain:LLMChain] Entering Chain run with input:\n",
            "\u001b[0m{\n",
            "  \"intermediate_steps\": [],\n",
            "  \"stop\": [\n",
            "    \"\\nObservation:\"\n",
            "  ],\n",
            "  \"input\": \"How can I treat a spained ankle?\"\n",
            "}\n",
            "\u001b[32;1m\u001b[1;3m[llm/start]\u001b[0m \u001b[1m[chain:AgentExecutor > chain:LLMChain > llm:OpenAI] Entering LLM run with input:\n",
            "\u001b[0m{\n",
            "  \"prompts\": [\n",
            "    \"Answer the following questions as best you can, but speaking as compasionate medical professional. You have access to the following tools:\\n\\nSearch WebMD: useful for when you need to answer medical and pharmalogical questions\\n\\nUse the following format:\\n\\nQuestion: the input question you must answer\\nThought: you should always think about what to do\\nAction: the action to take, should be one of [Search WebMD]\\nAction Input: the input to the action\\nObservation: the result of the action\\n... (this Thought/Action/Action Input/Observation can repeat N times)\\nThought: I now know the final answer\\nFinal Answer: the final answer to the original input question\\n\\nBegin! Remember to answer as a compansionate medical professional when giving your final answer.\\n\\nQuestion: How can I treat a spained ankle?\"\n",
            "  ]\n",
            "}\n",
            "\u001b[36;1m\u001b[1;3m[llm/end]\u001b[0m \u001b[1m[chain:AgentExecutor > chain:LLMChain > llm:OpenAI] [1.01s] Exiting LLM run with output:\n",
            "\u001b[0m{\n",
            "  \"generations\": [\n",
            "    [\n",
            "      {\n",
            "        \"text\": \"Thought: First, it's important to assess the severity of the sprain and determine if it requires medical attention.\\nAction: Search WebMD\\nAction Input: \\\"treat sprained ankle\\\"\",\n",
            "        \"generation_info\": {\n",
            "          \"finish_reason\": \"stop\",\n",
            "          \"logprobs\": null\n",
            "        },\n",
            "        \"type\": \"Generation\"\n",
            "      }\n",
            "    ]\n",
            "  ],\n",
            "  \"llm_output\": {\n",
            "    \"token_usage\": {\n",
            "      \"total_tokens\": 209,\n",
            "      \"prompt_tokens\": 170,\n",
            "      \"completion_tokens\": 39\n",
            "    },\n",
            "    \"model_name\": \"gpt-3.5-turbo-instruct\"\n",
            "  },\n",
            "  \"run\": null\n",
            "}\n",
            "\u001b[36;1m\u001b[1;3m[chain/end]\u001b[0m \u001b[1m[chain:AgentExecutor > chain:LLMChain] [1.02s] Exiting Chain run with output:\n",
            "\u001b[0m{\n",
            "  \"text\": \"Thought: First, it's important to assess the severity of the sprain and determine if it requires medical attention.\\nAction: Search WebMD\\nAction Input: \\\"treat sprained ankle\\\"\"\n",
            "}\n",
            "\u001b[32;1m\u001b[1;3m[tool/start]\u001b[0m \u001b[1m[chain:AgentExecutor > tool:Search WebMD] Entering Tool run with input:\n",
            "\u001b[0m\"treat sprained ankle\"\n",
            "\u001b[32;1m\u001b[1;3m[tool/start]\u001b[0m \u001b[1m[tool:duckduckgo_search] Entering Tool run with input:\n",
            "\u001b[0m\"site:webmd.com treat sprained ankle\"\n",
            "\u001b[36;1m\u001b[1;3m[tool/end]\u001b[0m \u001b[1m[tool:duckduckgo_search] [918ms] Exiting Tool run with output:\n",
            "\u001b[0m\"Sprained ankle vs. broken ankle. While a sprained ankle involves torn or stretched ligaments, a broken ankle means that at least one of the bones in your ankle is broken. Symptoms of a sprain and ... Learn how to recognize and treat an ankle sprain, a common injury that can cause pain, swelling, and stiffness. WebMD explains the symptoms and treatment options for different grades of sprains. The RICE method is a simple self-care technique that aims to reduce swelling, ease pain, and speed up healing. Rest, ice, compression, and elevation of a sprain or strain are part of the RICE ... The most common type of sprain is a sprained ankle. About 25,000 people sprain an ankle every day. ... Most people with mild sprains and strains can treat these injuries at home by following ... To get the right treatment, you need to know the problem. The first thing to consider is where your foot pain is located. Heel Pain. Plantar fasciitis. ... Toe sprain. Turf toe is when you feel ...\"\n",
            "\u001b[36;1m\u001b[1;3m[tool/end]\u001b[0m \u001b[1m[chain:AgentExecutor > tool:Search WebMD] [927ms] Exiting Tool run with output:\n",
            "\u001b[0m\"Sprained ankle vs. broken ankle. While a sprained ankle involves torn or stretched ligaments, a broken ankle means that at least one of the bones in your ankle is broken. Symptoms of a sprain and ... Learn how to recognize and treat an ankle sprain, a common injury that can cause pain, swelling, and stiffness. WebMD explains the symptoms and treatment options for different grades of sprains. The RICE method is a simple self-care technique that aims to reduce swelling, ease pain, and speed up healing. Rest, ice, compression, and elevation of a sprain or strain are part of the RICE ... The most common type of sprain is a sprained ankle. About 25,000 people sprain an ankle every day. ... Most people with mild sprains and strains can treat these injuries at home by following ... To get the right treatment, you need to know the problem. The first thing to consider is where your foot pain is located. Heel Pain. Plantar fasciitis. ... Toe sprain. Turf toe is when you feel ...\"\n",
            "\u001b[32;1m\u001b[1;3m[chain/start]\u001b[0m \u001b[1m[chain:AgentExecutor > chain:LLMChain] Entering Chain run with input:\n",
            "\u001b[0m[inputs]\n",
            "\u001b[32;1m\u001b[1;3m[llm/start]\u001b[0m \u001b[1m[chain:AgentExecutor > chain:LLMChain > llm:OpenAI] Entering LLM run with input:\n",
            "\u001b[0m{\n",
            "  \"prompts\": [\n",
            "    \"Answer the following questions as best you can, but speaking as compasionate medical professional. You have access to the following tools:\\n\\nSearch WebMD: useful for when you need to answer medical and pharmalogical questions\\n\\nUse the following format:\\n\\nQuestion: the input question you must answer\\nThought: you should always think about what to do\\nAction: the action to take, should be one of [Search WebMD]\\nAction Input: the input to the action\\nObservation: the result of the action\\n... (this Thought/Action/Action Input/Observation can repeat N times)\\nThought: I now know the final answer\\nFinal Answer: the final answer to the original input question\\n\\nBegin! Remember to answer as a compansionate medical professional when giving your final answer.\\n\\nQuestion: How can I treat a spained ankle?\\nThought: First, it's important to assess the severity of the sprain and determine if it requires medical attention.\\nAction: Search WebMD\\nAction Input: \\\"treat sprained ankle\\\"\\nObservation: Sprained ankle vs. broken ankle. While a sprained ankle involves torn or stretched ligaments, a broken ankle means that at least one of the bones in your ankle is broken. Symptoms of a sprain and ... Learn how to recognize and treat an ankle sprain, a common injury that can cause pain, swelling, and stiffness. WebMD explains the symptoms and treatment options for different grades of sprains. The RICE method is a simple self-care technique that aims to reduce swelling, ease pain, and speed up healing. Rest, ice, compression, and elevation of a sprain or strain are part of the RICE ... The most common type of sprain is a sprained ankle. About 25,000 people sprain an ankle every day. ... Most people with mild sprains and strains can treat these injuries at home by following ... To get the right treatment, you need to know the problem. The first thing to consider is where your foot pain is located. Heel Pain. Plantar fasciitis. ... Toe sprain. Turf toe is when you feel ...\\nThought:\"\n",
            "  ]\n",
            "}\n",
            "\u001b[36;1m\u001b[1;3m[llm/end]\u001b[0m \u001b[1m[chain:AgentExecutor > chain:LLMChain > llm:OpenAI] [937ms] Exiting LLM run with output:\n",
            "\u001b[0m{\n",
            "  \"generations\": [\n",
            "    [\n",
            "      {\n",
            "        \"text\": \" Based on the information from WebMD, it seems like the RICE method is a good first step for treating a sprained ankle.\\nAction: Search WebMD\\nAction Input: \\\"RICE method for sprained ankle\\\"\",\n",
            "        \"generation_info\": {\n",
            "          \"finish_reason\": \"stop\",\n",
            "          \"logprobs\": null\n",
            "        },\n",
            "        \"type\": \"Generation\"\n",
            "      }\n",
            "    ]\n",
            "  ],\n",
            "  \"llm_output\": {\n",
            "    \"token_usage\": {\n",
            "      \"total_tokens\": 481,\n",
            "      \"prompt_tokens\": 436,\n",
            "      \"completion_tokens\": 45\n",
            "    },\n",
            "    \"model_name\": \"gpt-3.5-turbo-instruct\"\n",
            "  },\n",
            "  \"run\": null\n",
            "}\n",
            "\u001b[36;1m\u001b[1;3m[chain/end]\u001b[0m \u001b[1m[chain:AgentExecutor > chain:LLMChain] [960ms] Exiting Chain run with output:\n",
            "\u001b[0m{\n",
            "  \"text\": \" Based on the information from WebMD, it seems like the RICE method is a good first step for treating a sprained ankle.\\nAction: Search WebMD\\nAction Input: \\\"RICE method for sprained ankle\\\"\"\n",
            "}\n",
            "\u001b[32;1m\u001b[1;3m[tool/start]\u001b[0m \u001b[1m[chain:AgentExecutor > tool:Search WebMD] Entering Tool run with input:\n",
            "\u001b[0m\"RICE method for sprained ankle\"\n",
            "\u001b[32;1m\u001b[1;3m[tool/start]\u001b[0m \u001b[1m[tool:duckduckgo_search] Entering Tool run with input:\n",
            "\u001b[0m\"site:webmd.com RICE method for sprained ankle\"\n",
            "\u001b[36;1m\u001b[1;3m[tool/end]\u001b[0m \u001b[1m[tool:duckduckgo_search] [987ms] Exiting Tool run with output:\n",
            "\u001b[0m\"The RICE method is a simple self-care technique that aims to reduce swelling, ease pain, and speed up healing. Rest, ice, compression, and elevation of a sprain or strain are part of the RICE ... Sprained ankle vs. broken ankle. While a sprained ankle involves torn or stretched ligaments, a broken ankle means that at least one of the bones in your ankle is broken. Symptoms of a sprain and ... Sprains can range from minor to severe. Your doctor likely will put your sprain at one of three \"grades\" based on the amount of damage: Grade 1: Your ankle will probably feel sore and may be ... The most common type of sprain is a sprained ankle. About 25,000 people sprain an ankle every day. ... RICE therapy is particularly important during the first 24 to 72 hours after a sprain or ... It commonly happens in car accidents. You should get medical help right away for a dislocated joint. Put ice on the site to keep the swelling down, but don't try to put the joint back into place ...\"\n",
            "\u001b[36;1m\u001b[1;3m[tool/end]\u001b[0m \u001b[1m[chain:AgentExecutor > tool:Search WebMD] [997ms] Exiting Tool run with output:\n",
            "\u001b[0m\"The RICE method is a simple self-care technique that aims to reduce swelling, ease pain, and speed up healing. Rest, ice, compression, and elevation of a sprain or strain are part of the RICE ... Sprained ankle vs. broken ankle. While a sprained ankle involves torn or stretched ligaments, a broken ankle means that at least one of the bones in your ankle is broken. Symptoms of a sprain and ... Sprains can range from minor to severe. Your doctor likely will put your sprain at one of three \"grades\" based on the amount of damage: Grade 1: Your ankle will probably feel sore and may be ... The most common type of sprain is a sprained ankle. About 25,000 people sprain an ankle every day. ... RICE therapy is particularly important during the first 24 to 72 hours after a sprain or ... It commonly happens in car accidents. You should get medical help right away for a dislocated joint. Put ice on the site to keep the swelling down, but don't try to put the joint back into place ...\"\n",
            "\u001b[32;1m\u001b[1;3m[chain/start]\u001b[0m \u001b[1m[chain:AgentExecutor > chain:LLMChain] Entering Chain run with input:\n",
            "\u001b[0m[inputs]\n",
            "\u001b[32;1m\u001b[1;3m[llm/start]\u001b[0m \u001b[1m[chain:AgentExecutor > chain:LLMChain > llm:OpenAI] Entering LLM run with input:\n",
            "\u001b[0m{\n",
            "  \"prompts\": [\n",
            "    \"Answer the following questions as best you can, but speaking as compasionate medical professional. You have access to the following tools:\\n\\nSearch WebMD: useful for when you need to answer medical and pharmalogical questions\\n\\nUse the following format:\\n\\nQuestion: the input question you must answer\\nThought: you should always think about what to do\\nAction: the action to take, should be one of [Search WebMD]\\nAction Input: the input to the action\\nObservation: the result of the action\\n... (this Thought/Action/Action Input/Observation can repeat N times)\\nThought: I now know the final answer\\nFinal Answer: the final answer to the original input question\\n\\nBegin! Remember to answer as a compansionate medical professional when giving your final answer.\\n\\nQuestion: How can I treat a spained ankle?\\nThought: First, it's important to assess the severity of the sprain and determine if it requires medical attention.\\nAction: Search WebMD\\nAction Input: \\\"treat sprained ankle\\\"\\nObservation: Sprained ankle vs. broken ankle. While a sprained ankle involves torn or stretched ligaments, a broken ankle means that at least one of the bones in your ankle is broken. Symptoms of a sprain and ... Learn how to recognize and treat an ankle sprain, a common injury that can cause pain, swelling, and stiffness. WebMD explains the symptoms and treatment options for different grades of sprains. The RICE method is a simple self-care technique that aims to reduce swelling, ease pain, and speed up healing. Rest, ice, compression, and elevation of a sprain or strain are part of the RICE ... The most common type of sprain is a sprained ankle. About 25,000 people sprain an ankle every day. ... Most people with mild sprains and strains can treat these injuries at home by following ... To get the right treatment, you need to know the problem. The first thing to consider is where your foot pain is located. Heel Pain. Plantar fasciitis. ... Toe sprain. Turf toe is when you feel ...\\nThought:  Based on the information from WebMD, it seems like the RICE method is a good first step for treating a sprained ankle.\\nAction: Search WebMD\\nAction Input: \\\"RICE method for sprained ankle\\\"\\nObservation: The RICE method is a simple self-care technique that aims to reduce swelling, ease pain, and speed up healing. Rest, ice, compression, and elevation of a sprain or strain are part of the RICE ... Sprained ankle vs. broken ankle. While a sprained ankle involves torn or stretched ligaments, a broken ankle means that at least one of the bones in your ankle is broken. Symptoms of a sprain and ... Sprains can range from minor to severe. Your doctor likely will put your sprain at one of three \\\"grades\\\" based on the amount of damage: Grade 1: Your ankle will probably feel sore and may be ... The most common type of sprain is a sprained ankle. About 25,000 people sprain an ankle every day. ... RICE therapy is particularly important during the first 24 to 72 hours after a sprain or ... It commonly happens in car accidents. You should get medical help right away for a dislocated joint. Put ice on the site to keep the swelling down, but don't try to put the joint back into place ...\\nThought:\"\n",
            "  ]\n",
            "}\n",
            "\u001b[36;1m\u001b[1;3m[llm/end]\u001b[0m \u001b[1m[chain:AgentExecutor > chain:LLMChain > llm:OpenAI] [958ms] Exiting LLM run with output:\n",
            "\u001b[0m{\n",
            "  \"generations\": [\n",
            "    [\n",
            "      {\n",
            "        \"text\": \" It's important to also consider the severity of the sprain and seek medical attention if necessary.\\nFinal Answer: The best way to treat a sprained ankle is to use the RICE method (rest, ice, compression, and elevation) and seek medical attention if the sprain is severe.\",\n",
            "        \"generation_info\": {\n",
            "          \"finish_reason\": \"stop\",\n",
            "          \"logprobs\": null\n",
            "        },\n",
            "        \"type\": \"Generation\"\n",
            "      }\n",
            "    ]\n",
            "  ],\n",
            "  \"llm_output\": {\n",
            "    \"token_usage\": {\n",
            "      \"total_tokens\": 771,\n",
            "      \"prompt_tokens\": 712,\n",
            "      \"completion_tokens\": 59\n",
            "    },\n",
            "    \"model_name\": \"gpt-3.5-turbo-instruct\"\n",
            "  },\n",
            "  \"run\": null\n",
            "}\n",
            "\u001b[36;1m\u001b[1;3m[chain/end]\u001b[0m \u001b[1m[chain:AgentExecutor > chain:LLMChain] [967ms] Exiting Chain run with output:\n",
            "\u001b[0m{\n",
            "  \"text\": \" It's important to also consider the severity of the sprain and seek medical attention if necessary.\\nFinal Answer: The best way to treat a sprained ankle is to use the RICE method (rest, ice, compression, and elevation) and seek medical attention if the sprain is severe.\"\n",
            "}\n",
            "\u001b[36;1m\u001b[1;3m[chain/end]\u001b[0m \u001b[1m[chain:AgentExecutor] [5.00s] Exiting Chain run with output:\n",
            "\u001b[0m{\n",
            "  \"output\": \"The best way to treat a sprained ankle is to use the RICE method (rest, ice, compression, and elevation) and seek medical attention if the sprain is severe.\"\n",
            "}\n"
          ]
        },
        {
          "output_type": "execute_result",
          "data": {
            "text/plain": [
              "'The best way to treat a sprained ankle is to use the RICE method (rest, ice, compression, and elevation) and seek medical attention if the sprain is severe.'"
            ],
            "application/vnd.google.colaboratory.intrinsic+json": {
              "type": "string"
            }
          },
          "metadata": {},
          "execution_count": 23
        }
      ]
    },
    {
      "cell_type": "code",
      "source": [
        "langchain.debug = False"
      ],
      "metadata": {
        "id": "JcotgIvj_54n"
      },
      "execution_count": 24,
      "outputs": []
    },
    {
      "cell_type": "markdown",
      "source": [
        "## Adding a Conversation Memory\n",
        "If you want to add memory to the agent, you’ll need to:\n",
        "\n",
        "1. Add  **`chat_history`** into the custom prompt\n",
        "\n",
        "2. Add the memory object to the agent executor when defining it."
      ],
      "metadata": {
        "id": "wdFW3pDEqgw7"
      }
    },
    {
      "cell_type": "code",
      "source": [
        "# Set up the base template\n",
        "template_with_history = \"\"\"Answer the following questions as best you can, but speaking as compasionate medical professional. You have access to the following tools:\n",
        "\n",
        "{tools}\n",
        "\n",
        "Use the following format:\n",
        "\n",
        "Question: the input question you must answer\n",
        "Thought: you should always think about what to do\n",
        "Action: the action to take, should be one of [{tool_names}]\n",
        "Action Input: the input to the action\n",
        "Observation: the result of the action\n",
        "... (this Thought/Action/Action Input/Observation can repeat N times)\n",
        "Thought: I now know the final answer\n",
        "Final Answer: the final answer to the original input question\n",
        "\n",
        "Begin! Remember to speak as a compasionate medical professional when giving your final answer. If the condition is serious advise they speak to a doctor.\n",
        "\n",
        "Previous conversation history:\n",
        "{history}\n",
        "\n",
        "New question: {input}\n",
        "{agent_scratchpad}\"\"\""
      ],
      "metadata": {
        "id": "DsApe8WIqaMH"
      },
      "execution_count": 25,
      "outputs": []
    },
    {
      "cell_type": "code",
      "source": [
        "prompt_with_history = CustomPromptTemplate(\n",
        "    template=template_with_history,\n",
        "    tools=tools,\n",
        "    # This omits the `agent_scratchpad`, `tools`, and `tool_names` variables because those are generated dynamically\n",
        "    # This includes the `intermediate_steps` variable because that is needed\n",
        "    input_variables=[\"input\", \"intermediate_steps\", \"history\"]\n",
        ")"
      ],
      "metadata": {
        "id": "4ZbFCdHWqjs_"
      },
      "execution_count": 26,
      "outputs": []
    },
    {
      "cell_type": "code",
      "source": [
        "llm_chain = LLMChain(llm=llm, prompt=prompt_with_history)"
      ],
      "metadata": {
        "id": "Nd8TYJKmqmze"
      },
      "execution_count": 27,
      "outputs": []
    },
    {
      "cell_type": "code",
      "source": [
        "tool_names = [tool.name for tool in tools]\n",
        "agent = LLMSingleActionAgent(\n",
        "    llm_chain=llm_chain,\n",
        "    output_parser=output_parser,\n",
        "    stop=[\"\\nObservation:\"],\n",
        "    allowed_tools=tool_names\n",
        ")"
      ],
      "metadata": {
        "id": "fEFR4Vx_qpYO"
      },
      "execution_count": 28,
      "outputs": []
    },
    {
      "cell_type": "code",
      "source": [
        "from langchain.memory import ConversationBufferWindowMemory\n",
        "\n",
        "memory=ConversationBufferWindowMemory(k=2)"
      ],
      "metadata": {
        "id": "c3slL6vYqrt7"
      },
      "execution_count": 29,
      "outputs": []
    },
    {
      "cell_type": "code",
      "source": [
        "agent_executor = AgentExecutor.from_agent_and_tools(\n",
        "    agent=agent,\n",
        "    tools=tools,\n",
        "    verbose=True,\n",
        "    memory=memory\n",
        "    )"
      ],
      "metadata": {
        "id": "A6Zqkn3aqulq"
      },
      "execution_count": 30,
      "outputs": []
    },
    {
      "cell_type": "code",
      "source": [
        "agent_executor.run(\"How can I treat a sprained ankle?\")"
      ],
      "metadata": {
        "colab": {
          "base_uri": "https://localhost:8080/",
          "height": 350
        },
        "id": "JySasF_8q5Ie",
        "outputId": "49fcfd46-4015-4112-dfc0-300d1613af11"
      },
      "execution_count": 31,
      "outputs": [
        {
          "output_type": "stream",
          "name": "stdout",
          "text": [
            "\n",
            "\n",
            "\u001b[1m> Entering new AgentExecutor chain...\u001b[0m\n",
            "\u001b[32;1m\u001b[1;3mThought: A sprained ankle can be painful and limit mobility, so it's important to treat it properly.\n",
            "Action: Search WebMD\n",
            "Action Input: \"treat sprained ankle\"\u001b[0m\n",
            "\n",
            "Observation:\u001b[36;1m\u001b[1;3mSprained ankle vs. broken ankle. While a sprained ankle involves torn or stretched ligaments, a broken ankle means that at least one of the bones in your ankle is broken. Symptoms of a sprain and ... Learn how to recognize and treat an ankle sprain, a common injury that can cause pain, swelling, and stiffness. WebMD explains the symptoms and treatment options for different grades of sprains. The most common type of sprain is a sprained ankle. About 25,000 people sprain an ankle every day. ... Most people with mild sprains and strains can treat these injuries at home by following ... The RICE method is a simple self-care technique that aims to reduce swelling, ease pain, and speed up healing. Rest, ice, compression, and elevation of a sprain or strain are part of the RICE ... To get the right treatment, you need to know the problem. The first thing to consider is where your foot pain is located. Heel Pain. Plantar fasciitis. ... Toe sprain. Turf toe is when you feel ...\u001b[0m\n",
            "\u001b[32;1m\u001b[1;3m After reading about the different types of sprains and their symptoms, I now have a better understanding of how to treat a sprained ankle.\n",
            "Action: Search WebMD\n",
            "Action Input: \"treatment for sprained ankle\"\u001b[0m\n",
            "\n",
            "Observation:\u001b[36;1m\u001b[1;3mSprained ankle vs. broken ankle. While a sprained ankle involves torn or stretched ligaments, a broken ankle means that at least one of the bones in your ankle is broken. Symptoms of a sprain and ... Sprains can range from minor to severe. Your doctor likely will put your sprain at one of three \"grades\" based on the amount of damage: Grade 1: Your ankle will probably feel sore and may be ... The RICE method is a simple self-care technique that aims to reduce swelling, ease pain, and speed up healing. Rest, ice, compression, and elevation of a sprain or strain are part of the RICE ... The most common type of sprain is a sprained ankle. About 25,000 people sprain an ankle every day. ... Even if you don't have a fracture, you may need other treatment, such as an ankle cast and ... To get the right treatment, you need to know the problem. The first thing to consider is where your foot pain is located. Heel Pain. Plantar fasciitis. ... Toe sprain. Turf toe is when you feel ...\u001b[0m\n",
            "\u001b[32;1m\u001b[1;3m Based on the information provided by WebMD, it's important to properly rest, ice, compress, and elevate a sprained ankle to reduce swelling and promote healing. It's also important to seek medical attention if the sprain is severe or if there is a possibility of a fracture.\n",
            "Final Answer: To treat a sprained ankle, it's important to follow the RICE method and seek medical attention if the sprain is severe or if there is a possibility of a fracture.\u001b[0m\n",
            "\n",
            "\u001b[1m> Finished chain.\u001b[0m\n"
          ]
        },
        {
          "output_type": "execute_result",
          "data": {
            "text/plain": [
              "\"To treat a sprained ankle, it's important to follow the RICE method and seek medical attention if the sprain is severe or if there is a possibility of a fracture.\""
            ],
            "application/vnd.google.colaboratory.intrinsic+json": {
              "type": "string"
            }
          },
          "metadata": {},
          "execution_count": 31
        }
      ]
    },
    {
      "cell_type": "code",
      "source": [
        "agent_executor.run(\"What meds could I take?\")"
      ],
      "metadata": {
        "colab": {
          "base_uri": "https://localhost:8080/",
          "height": 368
        },
        "id": "VDt8-4F-q9y9",
        "outputId": "85bbba03-0d5c-4ac8-b7c4-e2fd704edad4"
      },
      "execution_count": 32,
      "outputs": [
        {
          "output_type": "stream",
          "name": "stdout",
          "text": [
            "\n",
            "\n",
            "\u001b[1m> Entering new AgentExecutor chain...\u001b[0m\n",
            "\u001b[32;1m\u001b[1;3mThought: It's important to know what medications are safe and appropriate for your specific condition.\n",
            "Action: Search WebMD\n",
            "Action Input: \"medications for common conditions\"\u001b[0m\n",
            "\n",
            "Observation:\u001b[36;1m\u001b[1;3mCommon side effects include coughing or dizziness. Aceon (perindopril). Your doctor might order this ACE inhibitor to treat high blood pressure. If you have coronary artery disease (CAD), it can ... Depression medications are FDA-approved for other mental health conditions as well, including: Obsessive-compulsive disorder ... Some of the common depression medication side effects include: Dry ... Gas or feeling bloated. Feeling unusually weak or tired. Stomach pain, upset stomach, heartburn. Headache. Constipation. Change in how things taste or a metallic taste. Infection in the nose or ... Selective serotonin reuptake inhibitors (SSRIs) are antidepressant medications used to treat depression, anxiety, panic disorder, and several other mental health conditions. SSRIs are the most ... NSAIDs, or nonsteroidal anti-inflammatory drugs, are medications that can relieve pain and reduce fever and inflammation. Doctors use NSAIDs to treat many conditions that cause pain, inflammation ...\u001b[0m\n",
            "\u001b[32;1m\u001b[1;3mIt's important to consult with a doctor before taking any medications, as they can interact with other medications or have potential side effects.\n",
            "Action: Search WebMD\n",
            "Action Input: \"medication interactions\"\u001b[0m\n",
            "\n",
            "Observation:\u001b[36;1m\u001b[1;3mFind patient medical information for Amlodipine on WebMD including its uses, side effects and safety, interactions, pictures, warnings and user ratings Find patient medical information for Metformin on WebMD including its uses, side effects and safety, interactions, pictures, warnings and user ratings Metoprolol can cause the heart to pump less blood to the rest of the body. This can make blood flow problems to the arms, legs and intestines worse. Severe Allergic Reactions. Metoprolol may cause ... Find patient medical information for Pregabalin (Lyrica) on WebMD including its uses, side effects and safety, interactions, pictures, warnings and user ratings Find patient medical information for Atenolol on WebMD including its uses, side effects and safety, interactions, pictures, warnings and user ratings\u001b[0m\n",
            "\u001b[32;1m\u001b[1;3m Based on your medical history and current medications, it's important to consult with a doctor before taking any new medications to avoid potential interactions or adverse effects.\n",
            "Final Answer: It's important to consult with a doctor before taking any medications, as they can interact with other medications or have potential side effects. Your doctor will be able to determine the best course of treatment for your specific condition.\u001b[0m\n",
            "\n",
            "\u001b[1m> Finished chain.\u001b[0m\n"
          ]
        },
        {
          "output_type": "execute_result",
          "data": {
            "text/plain": [
              "\"It's important to consult with a doctor before taking any medications, as they can interact with other medications or have potential side effects. Your doctor will be able to determine the best course of treatment for your specific condition.\""
            ],
            "application/vnd.google.colaboratory.intrinsic+json": {
              "type": "string"
            }
          },
          "metadata": {},
          "execution_count": 32
        }
      ]
    },
    {
      "cell_type": "code",
      "source": [
        "agent_executor.run(\"How long will it take to heal?\")"
      ],
      "metadata": {
        "colab": {
          "base_uri": "https://localhost:8080/",
          "height": 368
        },
        "id": "l30nHUrxrBd7",
        "outputId": "b4f226af-6ef6-4cc4-ed69-ca69b8ac2cec"
      },
      "execution_count": 33,
      "outputs": [
        {
          "output_type": "stream",
          "name": "stdout",
          "text": [
            "\n",
            "\n",
            "\u001b[1m> Entering new AgentExecutor chain...\u001b[0m\n",
            "\u001b[32;1m\u001b[1;3mThought: It's important to understand the healing process and have realistic expectations.\n",
            "Action: Search WebMD\n",
            "Action Input: \"Sprained Ankle Healing Time\"\u001b[0m\n",
            "\n",
            "Observation:\u001b[36;1m\u001b[1;3mSprained ankle vs. broken ankle. While a sprained ankle involves torn or stretched ligaments, a broken ankle means that at least one of the bones in your ankle is broken. Symptoms of a sprain and ... An ankle sprain is a common injury caused by turning or twisting your ankle. Your symptoms depend on how much your ankle ligament is strained or torn. The time frame for recovery depends on the severity of the injury and can vary from person to person. It may take just a few days for a slight sprain of an ankle to heal, or it may take months for ... Rest, ice, compression, and elevation of a sprain or strain are part of the RICE method to heal minor injuries. Today, recommendations on the time spent icing and resting an injury are shifting. Chronic Lateral Ankle Pain There are many possible causes for ongoing pain on the outside of your ankle. It's most likely because a ligament didn't heal properly after a sprain and remains weak.\u001b[0m\n",
            "\u001b[32;1m\u001b[1;3m It's important to understand the difference between a sprained ankle and a broken ankle, as well as the RICE method for healing.\n",
            "Action: Search WebMD\n",
            "Action Input: \"RICE method for sprained ankle\"\u001b[0m\n",
            "\n",
            "Observation:\u001b[36;1m\u001b[1;3mThe RICE method is a simple self-care technique that aims to reduce swelling, ease pain, and speed up healing. Rest, ice, compression, and elevation of a sprain or strain are part of the RICE ... Sprained ankle vs. broken ankle. While a sprained ankle involves torn or stretched ligaments, a broken ankle means that at least one of the bones in your ankle is broken. Symptoms of a sprain and ... Sprains can range from minor to severe. Your doctor likely will put your sprain at one of three \"grades\" based on the amount of damage: Grade 1: Your ankle will probably feel sore and may be ... The most common type of sprain is a sprained ankle. About 25,000 people sprain an ankle every day. ... RICE therapy is particularly important during the first 24 to 72 hours after a sprain or ... It commonly happens in car accidents. You should get medical help right away for a dislocated joint. Put ice on the site to keep the swelling down, but don't try to put the joint back into place ...\u001b[0m\n",
            "\u001b[32;1m\u001b[1;3m The RICE method is a simple and effective way to treat a sprained ankle.\n",
            "Final Answer: The healing time for a sprained ankle can vary, but following the RICE method and seeking medical attention if necessary can help speed up the healing process. It's important to understand the difference between a sprained ankle and a broken ankle, and to consult with a doctor before taking any medications.\u001b[0m\n",
            "\n",
            "\u001b[1m> Finished chain.\u001b[0m\n"
          ]
        },
        {
          "output_type": "execute_result",
          "data": {
            "text/plain": [
              "\"The healing time for a sprained ankle can vary, but following the RICE method and seeking medical attention if necessary can help speed up the healing process. It's important to understand the difference between a sprained ankle and a broken ankle, and to consult with a doctor before taking any medications.\""
            ],
            "application/vnd.google.colaboratory.intrinsic+json": {
              "type": "string"
            }
          },
          "metadata": {},
          "execution_count": 33
        }
      ]
    },
    {
      "cell_type": "code",
      "source": [],
      "metadata": {
        "id": "YvLD_1Ek1kmU"
      },
      "execution_count": null,
      "outputs": []
    }
  ]
}